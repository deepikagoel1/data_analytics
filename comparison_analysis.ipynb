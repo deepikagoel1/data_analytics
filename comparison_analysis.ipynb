{
 "cells": [
  {
   "cell_type": "code",
   "execution_count": 2,
   "metadata": {},
   "outputs": [],
   "source": [
    "import pandas as pd"
   ]
  },
  {
   "cell_type": "code",
   "execution_count": 5,
   "metadata": {},
   "outputs": [
    {
     "data": {
      "text/plain": [
       "(29985, 14)"
      ]
     },
     "execution_count": 5,
     "metadata": {},
     "output_type": "execute_result"
    }
   ],
   "source": [
    "df = pd.read_excel(\"ITI Creator Approver_20_05_2024.xlsx\", sheet_name=\"Sheet2\")\n",
    "df.shape"
   ]
  },
  {
   "cell_type": "code",
   "execution_count": 6,
   "metadata": {},
   "outputs": [
    {
     "data": {
      "text/html": [
       "<div>\n",
       "<style scoped>\n",
       "    .dataframe tbody tr th:only-of-type {\n",
       "        vertical-align: middle;\n",
       "    }\n",
       "\n",
       "    .dataframe tbody tr th {\n",
       "        vertical-align: top;\n",
       "    }\n",
       "\n",
       "    .dataframe thead th {\n",
       "        text-align: right;\n",
       "    }\n",
       "</style>\n",
       "<table border=\"1\" class=\"dataframe\">\n",
       "  <thead>\n",
       "    <tr style=\"text-align: right;\">\n",
       "      <th></th>\n",
       "      <th>StateName</th>\n",
       "      <th>DistrictName</th>\n",
       "      <th>ITI Code</th>\n",
       "      <th>ITI Name</th>\n",
       "      <th>LoginID</th>\n",
       "      <th>FirstName</th>\n",
       "      <th>MiddleName</th>\n",
       "      <th>LastName</th>\n",
       "      <th>DateOfBirth</th>\n",
       "      <th>Designation</th>\n",
       "      <th>OfficePhoneNo</th>\n",
       "      <th>MobileNo</th>\n",
       "      <th>EmailID</th>\n",
       "      <th>IsActive</th>\n",
       "    </tr>\n",
       "  </thead>\n",
       "  <tbody>\n",
       "    <tr>\n",
       "      <th>0</th>\n",
       "      <td>ANDAMAN AND NICOBAR ISLANDS</td>\n",
       "      <td>NICOBARS</td>\n",
       "      <td>GR35000004</td>\n",
       "      <td>Govt ITI, Arong, Car Nicobar</td>\n",
       "      <td>GR35000004_A</td>\n",
       "      <td>Venketesh</td>\n",
       "      <td>NaN</td>\n",
       "      <td>Ch</td>\n",
       "      <td>1978-03-26</td>\n",
       "      <td>Principal Jr Scale</td>\n",
       "      <td>9679500691</td>\n",
       "      <td>9933246775</td>\n",
       "      <td>mindvenky@outlook.com</td>\n",
       "      <td>1</td>\n",
       "    </tr>\n",
       "    <tr>\n",
       "      <th>1</th>\n",
       "      <td>ANDAMAN AND NICOBAR ISLANDS</td>\n",
       "      <td>NICOBARS</td>\n",
       "      <td>GR35000004</td>\n",
       "      <td>Govt ITI, Arong, Car Nicobar</td>\n",
       "      <td>GR35000004_C</td>\n",
       "      <td>SOKKALINGAM</td>\n",
       "      <td>NaN</td>\n",
       "      <td>K</td>\n",
       "      <td>1966-07-15</td>\n",
       "      <td>Vocational/Craft Instructor Practical</td>\n",
       "      <td>251712</td>\n",
       "      <td>9933246775</td>\n",
       "      <td>thankappansubodh66@gmail.com</td>\n",
       "      <td>1</td>\n",
       "    </tr>\n",
       "    <tr>\n",
       "      <th>2</th>\n",
       "      <td>ANDAMAN AND NICOBAR ISLANDS</td>\n",
       "      <td>NORTH AND MIDDLE ANDAMAN</td>\n",
       "      <td>GR35000002</td>\n",
       "      <td>Government Vocational Training Institute</td>\n",
       "      <td>GR35000002_A</td>\n",
       "      <td>Ch</td>\n",
       "      <td>NaN</td>\n",
       "      <td>Venketesh</td>\n",
       "      <td>1978-03-26</td>\n",
       "      <td>Principal Jr Scale</td>\n",
       "      <td>3192251270</td>\n",
       "      <td>9933246775</td>\n",
       "      <td>mailonrao@gmail.com</td>\n",
       "      <td>1</td>\n",
       "    </tr>\n",
       "    <tr>\n",
       "      <th>3</th>\n",
       "      <td>ANDAMAN AND NICOBAR ISLANDS</td>\n",
       "      <td>NORTH AND MIDDLE ANDAMAN</td>\n",
       "      <td>GR35000002</td>\n",
       "      <td>Government Vocational Training Institute</td>\n",
       "      <td>GR35000002_C</td>\n",
       "      <td>R S</td>\n",
       "      <td>NaN</td>\n",
       "      <td>PRABHURAJ</td>\n",
       "      <td>1991-02-18</td>\n",
       "      <td>Instructor</td>\n",
       "      <td>3192251270</td>\n",
       "      <td>9679577293</td>\n",
       "      <td>venketesh_ch@rediffmail.com</td>\n",
       "      <td>1</td>\n",
       "    </tr>\n",
       "    <tr>\n",
       "      <th>4</th>\n",
       "      <td>ANDAMAN AND NICOBAR ISLANDS</td>\n",
       "      <td>SOUTH ANDAMANS</td>\n",
       "      <td>GR35000001</td>\n",
       "      <td>Government Industrial Training Institute</td>\n",
       "      <td>GR35000001_A</td>\n",
       "      <td>Venketesh</td>\n",
       "      <td>NaN</td>\n",
       "      <td>Ch</td>\n",
       "      <td>1978-03-26</td>\n",
       "      <td>Principal Jr Scale</td>\n",
       "      <td>3192251712</td>\n",
       "      <td>8448512180</td>\n",
       "      <td>iti.and@nic.in</td>\n",
       "      <td>1</td>\n",
       "    </tr>\n",
       "  </tbody>\n",
       "</table>\n",
       "</div>"
      ],
      "text/plain": [
       "                     StateName              DistrictName    ITI Code  \\\n",
       "0  ANDAMAN AND NICOBAR ISLANDS                  NICOBARS  GR35000004   \n",
       "1  ANDAMAN AND NICOBAR ISLANDS                  NICOBARS  GR35000004   \n",
       "2  ANDAMAN AND NICOBAR ISLANDS  NORTH AND MIDDLE ANDAMAN  GR35000002   \n",
       "3  ANDAMAN AND NICOBAR ISLANDS  NORTH AND MIDDLE ANDAMAN  GR35000002   \n",
       "4  ANDAMAN AND NICOBAR ISLANDS            SOUTH ANDAMANS  GR35000001   \n",
       "\n",
       "                                   ITI Name       LoginID    FirstName  \\\n",
       "0              Govt ITI, Arong, Car Nicobar  GR35000004_A    Venketesh   \n",
       "1              Govt ITI, Arong, Car Nicobar  GR35000004_C  SOKKALINGAM   \n",
       "2  Government Vocational Training Institute  GR35000002_A           Ch   \n",
       "3  Government Vocational Training Institute  GR35000002_C          R S   \n",
       "4  Government Industrial Training Institute  GR35000001_A    Venketesh   \n",
       "\n",
       "  MiddleName   LastName DateOfBirth                            Designation  \\\n",
       "0        NaN         Ch  1978-03-26                     Principal Jr Scale   \n",
       "1        NaN          K  1966-07-15  Vocational/Craft Instructor Practical   \n",
       "2        NaN  Venketesh  1978-03-26                     Principal Jr Scale   \n",
       "3        NaN  PRABHURAJ  1991-02-18                             Instructor   \n",
       "4        NaN         Ch  1978-03-26                     Principal Jr Scale   \n",
       "\n",
       "  OfficePhoneNo    MobileNo                       EmailID  IsActive  \n",
       "0    9679500691  9933246775         mindvenky@outlook.com         1  \n",
       "1        251712  9933246775  thankappansubodh66@gmail.com         1  \n",
       "2    3192251270  9933246775           mailonrao@gmail.com         1  \n",
       "3    3192251270  9679577293   venketesh_ch@rediffmail.com         1  \n",
       "4    3192251712  8448512180                iti.and@nic.in         1  "
      ]
     },
     "execution_count": 6,
     "metadata": {},
     "output_type": "execute_result"
    }
   ],
   "source": [
    "df.head()"
   ]
  },
  {
   "cell_type": "code",
   "execution_count": 7,
   "metadata": {},
   "outputs": [
    {
     "data": {
      "text/plain": [
       "(29985, 14)"
      ]
     },
     "execution_count": 7,
     "metadata": {},
     "output_type": "execute_result"
    }
   ],
   "source": [
    "df.drop_duplicates(inplace = True)\n",
    "df.shape"
   ]
  },
  {
   "cell_type": "code",
   "execution_count": 8,
   "metadata": {},
   "outputs": [
    {
     "data": {
      "text/plain": [
       "(29985, 14)"
      ]
     },
     "execution_count": 8,
     "metadata": {},
     "output_type": "execute_result"
    }
   ],
   "source": [
    "df.isnull().sum()\n",
    "df.shape"
   ]
  },
  {
   "cell_type": "code",
   "execution_count": 10,
   "metadata": {},
   "outputs": [],
   "source": [
    "df = df[[\"ITI Code\", \"ITI Name\", \"LoginID\", \"MobileNo\"]]"
   ]
  },
  {
   "cell_type": "code",
   "execution_count": 11,
   "metadata": {},
   "outputs": [
    {
     "name": "stderr",
     "output_type": "stream",
     "text": [
      "C:\\Users\\goeld\\AppData\\Local\\Temp\\ipykernel_2036\\2865944105.py:2: SettingWithCopyWarning: \n",
      "A value is trying to be set on a copy of a slice from a DataFrame.\n",
      "Try using .loc[row_indexer,col_indexer] = value instead\n",
      "\n",
      "See the caveats in the documentation: https://pandas.pydata.org/pandas-docs/stable/user_guide/indexing.html#returning-a-view-versus-a-copy\n",
      "  df[i] = df[i].astype(str).str.strip().sort_values(ascending=True)\n",
      "C:\\Users\\goeld\\AppData\\Local\\Temp\\ipykernel_2036\\2865944105.py:2: SettingWithCopyWarning: \n",
      "A value is trying to be set on a copy of a slice from a DataFrame.\n",
      "Try using .loc[row_indexer,col_indexer] = value instead\n",
      "\n",
      "See the caveats in the documentation: https://pandas.pydata.org/pandas-docs/stable/user_guide/indexing.html#returning-a-view-versus-a-copy\n",
      "  df[i] = df[i].astype(str).str.strip().sort_values(ascending=True)\n",
      "C:\\Users\\goeld\\AppData\\Local\\Temp\\ipykernel_2036\\2865944105.py:2: SettingWithCopyWarning: \n",
      "A value is trying to be set on a copy of a slice from a DataFrame.\n",
      "Try using .loc[row_indexer,col_indexer] = value instead\n",
      "\n",
      "See the caveats in the documentation: https://pandas.pydata.org/pandas-docs/stable/user_guide/indexing.html#returning-a-view-versus-a-copy\n",
      "  df[i] = df[i].astype(str).str.strip().sort_values(ascending=True)\n",
      "C:\\Users\\goeld\\AppData\\Local\\Temp\\ipykernel_2036\\2865944105.py:2: SettingWithCopyWarning: \n",
      "A value is trying to be set on a copy of a slice from a DataFrame.\n",
      "Try using .loc[row_indexer,col_indexer] = value instead\n",
      "\n",
      "See the caveats in the documentation: https://pandas.pydata.org/pandas-docs/stable/user_guide/indexing.html#returning-a-view-versus-a-copy\n",
      "  df[i] = df[i].astype(str).str.strip().sort_values(ascending=True)\n"
     ]
    }
   ],
   "source": [
    "for i in df.columns:\n",
    "    df[i] = df[i].astype(str).str.strip().sort_values(ascending=True)"
   ]
  },
  {
   "cell_type": "code",
   "execution_count": 14,
   "metadata": {},
   "outputs": [
    {
     "name": "stderr",
     "output_type": "stream",
     "text": [
      "C:\\Users\\goeld\\AppData\\Local\\Temp\\ipykernel_2036\\1024184545.py:1: SettingWithCopyWarning: \n",
      "A value is trying to be set on a copy of a slice from a DataFrame.\n",
      "Try using .loc[row_indexer,col_indexer] = value instead\n",
      "\n",
      "See the caveats in the documentation: https://pandas.pydata.org/pandas-docs/stable/user_guide/indexing.html#returning-a-view-versus-a-copy\n",
      "  df[\"ITI Name\"] = df[\"ITI Name\"].str.title()\n"
     ]
    }
   ],
   "source": [
    "df[\"ITI Name\"] = df[\"ITI Name\"].str.title()"
   ]
  },
  {
   "cell_type": "code",
   "execution_count": 15,
   "metadata": {},
   "outputs": [
    {
     "name": "stderr",
     "output_type": "stream",
     "text": [
      "C:\\Users\\goeld\\AppData\\Local\\Temp\\ipykernel_2036\\3032206105.py:1: SettingWithCopyWarning: \n",
      "A value is trying to be set on a copy of a slice from a DataFrame\n",
      "\n",
      "See the caveats in the documentation: https://pandas.pydata.org/pandas-docs/stable/user_guide/indexing.html#returning-a-view-versus-a-copy\n",
      "  df.drop(columns=['ITIName'], inplace=True)\n"
     ]
    }
   ],
   "source": [
    "df.drop(columns=['ITIName'], inplace=True)"
   ]
  },
  {
   "cell_type": "code",
   "execution_count": 16,
   "metadata": {},
   "outputs": [
    {
     "name": "stderr",
     "output_type": "stream",
     "text": [
      "C:\\Users\\goeld\\AppData\\Local\\Temp\\ipykernel_2036\\753474098.py:1: SettingWithCopyWarning: \n",
      "A value is trying to be set on a copy of a slice from a DataFrame.\n",
      "Try using .loc[row_indexer,col_indexer] = value instead\n",
      "\n",
      "See the caveats in the documentation: https://pandas.pydata.org/pandas-docs/stable/user_guide/indexing.html#returning-a-view-versus-a-copy\n",
      "  df[\"ITI Name\"] = df[\"ITI Name\"].str.replace(\"Iti\", \"ITI\")\n",
      "C:\\Users\\goeld\\AppData\\Local\\Temp\\ipykernel_2036\\753474098.py:2: SettingWithCopyWarning: \n",
      "A value is trying to be set on a copy of a slice from a DataFrame.\n",
      "Try using .loc[row_indexer,col_indexer] = value instead\n",
      "\n",
      "See the caveats in the documentation: https://pandas.pydata.org/pandas-docs/stable/user_guide/indexing.html#returning-a-view-versus-a-copy\n",
      "  df[\"LoginID\"] = df[\"LoginID\"].str.replace(\"pr\", \"PR\")\n",
      "C:\\Users\\goeld\\AppData\\Local\\Temp\\ipykernel_2036\\753474098.py:3: SettingWithCopyWarning: \n",
      "A value is trying to be set on a copy of a slice from a DataFrame.\n",
      "Try using .loc[row_indexer,col_indexer] = value instead\n",
      "\n",
      "See the caveats in the documentation: https://pandas.pydata.org/pandas-docs/stable/user_guide/indexing.html#returning-a-view-versus-a-copy\n",
      "  df[\"LoginID\"] = df[\"LoginID\"].str.replace(\"pu\", \"PU\")\n",
      "C:\\Users\\goeld\\AppData\\Local\\Temp\\ipykernel_2036\\753474098.py:4: SettingWithCopyWarning: \n",
      "A value is trying to be set on a copy of a slice from a DataFrame.\n",
      "Try using .loc[row_indexer,col_indexer] = value instead\n",
      "\n",
      "See the caveats in the documentation: https://pandas.pydata.org/pandas-docs/stable/user_guide/indexing.html#returning-a-view-versus-a-copy\n",
      "  df[\"LoginID\"] = df[\"LoginID\"].str.replace(\"gr\", \"GR\")\n",
      "C:\\Users\\goeld\\AppData\\Local\\Temp\\ipykernel_2036\\753474098.py:5: SettingWithCopyWarning: \n",
      "A value is trying to be set on a copy of a slice from a DataFrame.\n",
      "Try using .loc[row_indexer,col_indexer] = value instead\n",
      "\n",
      "See the caveats in the documentation: https://pandas.pydata.org/pandas-docs/stable/user_guide/indexing.html#returning-a-view-versus-a-copy\n",
      "  df[\"LoginID\"] = df[\"LoginID\"].str.replace(\"gu\", \"GU\")\n",
      "C:\\Users\\goeld\\AppData\\Local\\Temp\\ipykernel_2036\\753474098.py:6: SettingWithCopyWarning: \n",
      "A value is trying to be set on a copy of a slice from a DataFrame.\n",
      "Try using .loc[row_indexer,col_indexer] = value instead\n",
      "\n",
      "See the caveats in the documentation: https://pandas.pydata.org/pandas-docs/stable/user_guide/indexing.html#returning-a-view-versus-a-copy\n",
      "  df[\"LoginID\"] = df[\"LoginID\"].str.replace(\"_a\", \"_A\")\n",
      "C:\\Users\\goeld\\AppData\\Local\\Temp\\ipykernel_2036\\753474098.py:7: SettingWithCopyWarning: \n",
      "A value is trying to be set on a copy of a slice from a DataFrame.\n",
      "Try using .loc[row_indexer,col_indexer] = value instead\n",
      "\n",
      "See the caveats in the documentation: https://pandas.pydata.org/pandas-docs/stable/user_guide/indexing.html#returning-a-view-versus-a-copy\n",
      "  df[\"LoginID\"] = df[\"LoginID\"].str.replace(\"_c\", \"_C\")\n"
     ]
    }
   ],
   "source": [
    "df[\"ITI Name\"] = df[\"ITI Name\"].str.replace(\"Iti\", \"ITI\")\n",
    "df[\"LoginID\"] = df[\"LoginID\"].str.replace(\"pr\", \"PR\")\n",
    "df[\"LoginID\"] = df[\"LoginID\"].str.replace(\"pu\", \"PU\")\n",
    "df[\"LoginID\"] = df[\"LoginID\"].str.replace(\"gr\", \"GR\")\n",
    "df[\"LoginID\"] = df[\"LoginID\"].str.replace(\"gu\", \"GU\")\n",
    "df[\"LoginID\"] = df[\"LoginID\"].str.replace(\"_a\", \"_A\")\n",
    "df[\"LoginID\"] = df[\"LoginID\"].str.replace(\"_c\", \"_C\")\n"
   ]
  },
  {
   "cell_type": "code",
   "execution_count": 17,
   "metadata": {},
   "outputs": [],
   "source": [
    "df = df.reset_index()"
   ]
  },
  {
   "cell_type": "code",
   "execution_count": 18,
   "metadata": {},
   "outputs": [],
   "source": [
    "df = df[[\"ITI Code\", \"ITI Name\", \"LoginID\", \"MobileNo\"]]"
   ]
  },
  {
   "cell_type": "code",
   "execution_count": null,
   "metadata": {},
   "outputs": [],
   "source": []
  },
  {
   "cell_type": "code",
   "execution_count": 19,
   "metadata": {},
   "outputs": [],
   "source": [
    "df[\"MobileNo\"] = df[\"MobileNo\"].str.replace(\".0\", \"\")"
   ]
  },
  {
   "cell_type": "code",
   "execution_count": 20,
   "metadata": {},
   "outputs": [
    {
     "data": {
      "text/html": [
       "<div>\n",
       "<style scoped>\n",
       "    .dataframe tbody tr th:only-of-type {\n",
       "        vertical-align: middle;\n",
       "    }\n",
       "\n",
       "    .dataframe tbody tr th {\n",
       "        vertical-align: top;\n",
       "    }\n",
       "\n",
       "    .dataframe thead th {\n",
       "        text-align: right;\n",
       "    }\n",
       "</style>\n",
       "<table border=\"1\" class=\"dataframe\">\n",
       "  <thead>\n",
       "    <tr style=\"text-align: right;\">\n",
       "      <th></th>\n",
       "      <th>ITI Code</th>\n",
       "      <th>ITI Name</th>\n",
       "      <th>LoginID</th>\n",
       "      <th>MobileNo</th>\n",
       "    </tr>\n",
       "  </thead>\n",
       "  <tbody>\n",
       "    <tr>\n",
       "      <th>0</th>\n",
       "      <td>GR35000004</td>\n",
       "      <td>Govt ITI, Arong, Car Nicobar</td>\n",
       "      <td>GR35000004_A</td>\n",
       "      <td>9933246775</td>\n",
       "    </tr>\n",
       "    <tr>\n",
       "      <th>1</th>\n",
       "      <td>GR35000004</td>\n",
       "      <td>Govt ITI, Arong, Car Nicobar</td>\n",
       "      <td>GR35000004_C</td>\n",
       "      <td>9933246775</td>\n",
       "    </tr>\n",
       "    <tr>\n",
       "      <th>2</th>\n",
       "      <td>GR35000002</td>\n",
       "      <td>Government Vocational Training Institute</td>\n",
       "      <td>GR35000002_A</td>\n",
       "      <td>9933246775</td>\n",
       "    </tr>\n",
       "    <tr>\n",
       "      <th>3</th>\n",
       "      <td>GR35000002</td>\n",
       "      <td>Government Vocational Training Institute</td>\n",
       "      <td>GR35000002_C</td>\n",
       "      <td>9679577293</td>\n",
       "    </tr>\n",
       "    <tr>\n",
       "      <th>4</th>\n",
       "      <td>GR35000001</td>\n",
       "      <td>Government Industrial Training Institute</td>\n",
       "      <td>GR35000001_A</td>\n",
       "      <td>8448512180</td>\n",
       "    </tr>\n",
       "  </tbody>\n",
       "</table>\n",
       "</div>"
      ],
      "text/plain": [
       "     ITI Code                                  ITI Name       LoginID  \\\n",
       "0  GR35000004              Govt ITI, Arong, Car Nicobar  GR35000004_A   \n",
       "1  GR35000004              Govt ITI, Arong, Car Nicobar  GR35000004_C   \n",
       "2  GR35000002  Government Vocational Training Institute  GR35000002_A   \n",
       "3  GR35000002  Government Vocational Training Institute  GR35000002_C   \n",
       "4  GR35000001  Government Industrial Training Institute  GR35000001_A   \n",
       "\n",
       "     MobileNo  \n",
       "0  9933246775  \n",
       "1  9933246775  \n",
       "2  9933246775  \n",
       "3  9679577293  \n",
       "4  8448512180  "
      ]
     },
     "execution_count": 20,
     "metadata": {},
     "output_type": "execute_result"
    }
   ],
   "source": [
    "df.head()"
   ]
  },
  {
   "cell_type": "code",
   "execution_count": 21,
   "metadata": {},
   "outputs": [],
   "source": [
    "# Create new columns for mobile numbers for _C and _A\n",
    "df['Creater_Mobile_Number'] = df[df['LoginID'].str.contains('_C', na=True)]['MobileNo']\n",
    "df['Approver_Mobile_Number'] = df[df['LoginID'].str.contains('_A', na=True)]['MobileNo']"
   ]
  },
  {
   "cell_type": "code",
   "execution_count": null,
   "metadata": {},
   "outputs": [],
   "source": []
  },
  {
   "cell_type": "code",
   "execution_count": 22,
   "metadata": {},
   "outputs": [
    {
     "data": {
      "text/html": [
       "<div>\n",
       "<style scoped>\n",
       "    .dataframe tbody tr th:only-of-type {\n",
       "        vertical-align: middle;\n",
       "    }\n",
       "\n",
       "    .dataframe tbody tr th {\n",
       "        vertical-align: top;\n",
       "    }\n",
       "\n",
       "    .dataframe thead th {\n",
       "        text-align: right;\n",
       "    }\n",
       "</style>\n",
       "<table border=\"1\" class=\"dataframe\">\n",
       "  <thead>\n",
       "    <tr style=\"text-align: right;\">\n",
       "      <th></th>\n",
       "      <th>ITI Code</th>\n",
       "      <th>ITI Name</th>\n",
       "      <th>LoginID</th>\n",
       "      <th>MobileNo</th>\n",
       "      <th>Creater_Mobile_Number</th>\n",
       "      <th>Approver_Mobile_Number</th>\n",
       "    </tr>\n",
       "  </thead>\n",
       "  <tbody>\n",
       "    <tr>\n",
       "      <th>0</th>\n",
       "      <td>GR35000004</td>\n",
       "      <td>Govt ITI, Arong, Car Nicobar</td>\n",
       "      <td>GR35000004_A</td>\n",
       "      <td>9933246775</td>\n",
       "      <td>NaN</td>\n",
       "      <td>9933246775</td>\n",
       "    </tr>\n",
       "    <tr>\n",
       "      <th>1</th>\n",
       "      <td>GR35000004</td>\n",
       "      <td>Govt ITI, Arong, Car Nicobar</td>\n",
       "      <td>GR35000004_C</td>\n",
       "      <td>9933246775</td>\n",
       "      <td>9933246775</td>\n",
       "      <td>NaN</td>\n",
       "    </tr>\n",
       "    <tr>\n",
       "      <th>2</th>\n",
       "      <td>GR35000002</td>\n",
       "      <td>Government Vocational Training Institute</td>\n",
       "      <td>GR35000002_A</td>\n",
       "      <td>9933246775</td>\n",
       "      <td>NaN</td>\n",
       "      <td>9933246775</td>\n",
       "    </tr>\n",
       "    <tr>\n",
       "      <th>3</th>\n",
       "      <td>GR35000002</td>\n",
       "      <td>Government Vocational Training Institute</td>\n",
       "      <td>GR35000002_C</td>\n",
       "      <td>9679577293</td>\n",
       "      <td>9679577293</td>\n",
       "      <td>NaN</td>\n",
       "    </tr>\n",
       "    <tr>\n",
       "      <th>4</th>\n",
       "      <td>GR35000001</td>\n",
       "      <td>Government Industrial Training Institute</td>\n",
       "      <td>GR35000001_A</td>\n",
       "      <td>8448512180</td>\n",
       "      <td>NaN</td>\n",
       "      <td>8448512180</td>\n",
       "    </tr>\n",
       "  </tbody>\n",
       "</table>\n",
       "</div>"
      ],
      "text/plain": [
       "     ITI Code                                  ITI Name       LoginID  \\\n",
       "0  GR35000004              Govt ITI, Arong, Car Nicobar  GR35000004_A   \n",
       "1  GR35000004              Govt ITI, Arong, Car Nicobar  GR35000004_C   \n",
       "2  GR35000002  Government Vocational Training Institute  GR35000002_A   \n",
       "3  GR35000002  Government Vocational Training Institute  GR35000002_C   \n",
       "4  GR35000001  Government Industrial Training Institute  GR35000001_A   \n",
       "\n",
       "     MobileNo Creater_Mobile_Number Approver_Mobile_Number  \n",
       "0  9933246775                   NaN             9933246775  \n",
       "1  9933246775            9933246775                    NaN  \n",
       "2  9933246775                   NaN             9933246775  \n",
       "3  9679577293            9679577293                    NaN  \n",
       "4  8448512180                   NaN             8448512180  "
      ]
     },
     "execution_count": 22,
     "metadata": {},
     "output_type": "execute_result"
    }
   ],
   "source": [
    "df.head()"
   ]
  },
  {
   "cell_type": "code",
   "execution_count": 16,
   "metadata": {},
   "outputs": [
    {
     "data": {
      "text/html": [
       "<div>\n",
       "<style scoped>\n",
       "    .dataframe tbody tr th:only-of-type {\n",
       "        vertical-align: middle;\n",
       "    }\n",
       "\n",
       "    .dataframe tbody tr th {\n",
       "        vertical-align: top;\n",
       "    }\n",
       "\n",
       "    .dataframe thead th {\n",
       "        text-align: right;\n",
       "    }\n",
       "</style>\n",
       "<table border=\"1\" class=\"dataframe\">\n",
       "  <thead>\n",
       "    <tr style=\"text-align: right;\">\n",
       "      <th></th>\n",
       "      <th>ITICode</th>\n",
       "      <th>ITIName</th>\n",
       "      <th>LoginID</th>\n",
       "      <th>MobileNo</th>\n",
       "      <th>Creater_Mobile_Number</th>\n",
       "      <th>Approver_Mobile_Number</th>\n",
       "    </tr>\n",
       "  </thead>\n",
       "  <tbody>\n",
       "    <tr>\n",
       "      <th>0</th>\n",
       "      <td>GR35000001</td>\n",
       "      <td>Government Industrial Training Institute</td>\n",
       "      <td>GR35000001_C</td>\n",
       "      <td>9434266116</td>\n",
       "      <td>9434266116</td>\n",
       "      <td>NaN</td>\n",
       "    </tr>\n",
       "    <tr>\n",
       "      <th>1</th>\n",
       "      <td>GR35000001</td>\n",
       "      <td>Government Industrial Training Institute</td>\n",
       "      <td>GR35000001_A</td>\n",
       "      <td>8448512180</td>\n",
       "      <td>NaN</td>\n",
       "      <td>8448512180</td>\n",
       "    </tr>\n",
       "    <tr>\n",
       "      <th>2</th>\n",
       "      <td>GR35000002</td>\n",
       "      <td>Government Vocational Training Institute</td>\n",
       "      <td>GR35000002_C</td>\n",
       "      <td>9679577293</td>\n",
       "      <td>9679577293</td>\n",
       "      <td>NaN</td>\n",
       "    </tr>\n",
       "    <tr>\n",
       "      <th>3</th>\n",
       "      <td>GR35000002</td>\n",
       "      <td>Government Vocational Training Institute</td>\n",
       "      <td>GR35000002_A</td>\n",
       "      <td>9933246775</td>\n",
       "      <td>NaN</td>\n",
       "      <td>9933246775</td>\n",
       "    </tr>\n",
       "    <tr>\n",
       "      <th>4</th>\n",
       "      <td>GR35000004</td>\n",
       "      <td>Govt ITI, Arong, Car Nicobar</td>\n",
       "      <td>GR35000004_A</td>\n",
       "      <td>9933246775</td>\n",
       "      <td>NaN</td>\n",
       "      <td>9933246775</td>\n",
       "    </tr>\n",
       "    <tr>\n",
       "      <th>...</th>\n",
       "      <td>...</td>\n",
       "      <td>...</td>\n",
       "      <td>...</td>\n",
       "      <td>...</td>\n",
       "      <td>...</td>\n",
       "      <td>...</td>\n",
       "    </tr>\n",
       "    <tr>\n",
       "      <th>28749</th>\n",
       "      <td>PU19000261</td>\n",
       "      <td>Ramakrishna Mission Ashram- Private Industrial...</td>\n",
       "      <td>PU19000261_A</td>\n",
       "      <td>7001544300</td>\n",
       "      <td>NaN</td>\n",
       "      <td>7001544300</td>\n",
       "    </tr>\n",
       "    <tr>\n",
       "      <th>28750</th>\n",
       "      <td>PU19000264</td>\n",
       "      <td>Elitte Private ITI</td>\n",
       "      <td>PU19000264_A</td>\n",
       "      <td>9831500840</td>\n",
       "      <td>NaN</td>\n",
       "      <td>9831500840</td>\n",
       "    </tr>\n",
       "    <tr>\n",
       "      <th>28751</th>\n",
       "      <td>PU19000266</td>\n",
       "      <td>Netaji Subhash Chandra Bose Pvt ITI</td>\n",
       "      <td>PU19000266_A</td>\n",
       "      <td>9933596821</td>\n",
       "      <td>NaN</td>\n",
       "      <td>9933596821</td>\n",
       "    </tr>\n",
       "    <tr>\n",
       "      <th>28752</th>\n",
       "      <td>PU19000268</td>\n",
       "      <td>Nhit Pvt ITI</td>\n",
       "      <td>PU19000268_A</td>\n",
       "      <td>7719364723</td>\n",
       "      <td>NaN</td>\n",
       "      <td>7719364723</td>\n",
       "    </tr>\n",
       "    <tr>\n",
       "      <th>28753</th>\n",
       "      <td>PU19000297</td>\n",
       "      <td>Rishra Multi Skill Training Institute, Hooghly</td>\n",
       "      <td>PU19000297_A</td>\n",
       "      <td>8240334778</td>\n",
       "      <td>NaN</td>\n",
       "      <td>8240334778</td>\n",
       "    </tr>\n",
       "  </tbody>\n",
       "</table>\n",
       "<p>28754 rows × 6 columns</p>\n",
       "</div>"
      ],
      "text/plain": [
       "          ITICode                                            ITIName  \\\n",
       "0      GR35000001           Government Industrial Training Institute   \n",
       "1      GR35000001           Government Industrial Training Institute   \n",
       "2      GR35000002           Government Vocational Training Institute   \n",
       "3      GR35000002           Government Vocational Training Institute   \n",
       "4      GR35000004                       Govt ITI, Arong, Car Nicobar   \n",
       "...           ...                                                ...   \n",
       "28749  PU19000261  Ramakrishna Mission Ashram- Private Industrial...   \n",
       "28750  PU19000264                                 Elitte Private ITI   \n",
       "28751  PU19000266                Netaji Subhash Chandra Bose Pvt ITI   \n",
       "28752  PU19000268                                       Nhit Pvt ITI   \n",
       "28753  PU19000297     Rishra Multi Skill Training Institute, Hooghly   \n",
       "\n",
       "            LoginID    MobileNo Creater_Mobile_Number Approver_Mobile_Number  \n",
       "0      GR35000001_C  9434266116            9434266116                    NaN  \n",
       "1      GR35000001_A  8448512180                   NaN             8448512180  \n",
       "2      GR35000002_C  9679577293            9679577293                    NaN  \n",
       "3      GR35000002_A  9933246775                   NaN             9933246775  \n",
       "4      GR35000004_A  9933246775                   NaN             9933246775  \n",
       "...             ...         ...                   ...                    ...  \n",
       "28749  PU19000261_A  7001544300                   NaN             7001544300  \n",
       "28750  PU19000264_A  9831500840                   NaN             9831500840  \n",
       "28751  PU19000266_A  9933596821                   NaN             9933596821  \n",
       "28752  PU19000268_A  7719364723                   NaN             7719364723  \n",
       "28753  PU19000297_A  8240334778                   NaN             8240334778  \n",
       "\n",
       "[28754 rows x 6 columns]"
      ]
     },
     "execution_count": 16,
     "metadata": {},
     "output_type": "execute_result"
    }
   ],
   "source": [
    "df"
   ]
  },
  {
   "cell_type": "code",
   "execution_count": 28,
   "metadata": {},
   "outputs": [],
   "source": [
    "grouped_df = df.groupby(\"ITICode\")"
   ]
  },
  {
   "cell_type": "code",
   "execution_count": 29,
   "metadata": {},
   "outputs": [
    {
     "data": {
      "text/plain": [
       "15402"
      ]
     },
     "execution_count": 29,
     "metadata": {},
     "output_type": "execute_result"
    }
   ],
   "source": [
    "len(grouped_df)"
   ]
  },
  {
   "cell_type": "code",
   "execution_count": 31,
   "metadata": {},
   "outputs": [
    {
     "data": {
      "text/plain": [
       "ITICode\n",
       "GR01000001    2\n",
       "PR20000059    2\n",
       "PR20000030    2\n",
       "PR20000031    2\n",
       "PR20000032    2\n",
       "             ..\n",
       "PR10000031    1\n",
       "PR10000196    1\n",
       "PR10000199    1\n",
       "PR10000282    1\n",
       "pu29000869    1\n",
       "Length: 15402, dtype: int64"
      ]
     },
     "execution_count": 31,
     "metadata": {},
     "output_type": "execute_result"
    }
   ],
   "source": [
    "grouped_df.size().sort_values(ascending = False)"
   ]
  },
  {
   "cell_type": "code",
   "execution_count": 32,
   "metadata": {},
   "outputs": [
    {
     "data": {
      "text/html": [
       "<div>\n",
       "<style scoped>\n",
       "    .dataframe tbody tr th:only-of-type {\n",
       "        vertical-align: middle;\n",
       "    }\n",
       "\n",
       "    .dataframe tbody tr th {\n",
       "        vertical-align: top;\n",
       "    }\n",
       "\n",
       "    .dataframe thead th {\n",
       "        text-align: right;\n",
       "    }\n",
       "</style>\n",
       "<table border=\"1\" class=\"dataframe\">\n",
       "  <thead>\n",
       "    <tr style=\"text-align: right;\">\n",
       "      <th></th>\n",
       "      <th>ITIName</th>\n",
       "      <th>LoginID</th>\n",
       "      <th>MobileNo</th>\n",
       "      <th>Creater_Mobile_Number</th>\n",
       "      <th>Approver_Mobile_Number</th>\n",
       "    </tr>\n",
       "    <tr>\n",
       "      <th>ITICode</th>\n",
       "      <th></th>\n",
       "      <th></th>\n",
       "      <th></th>\n",
       "      <th></th>\n",
       "      <th></th>\n",
       "    </tr>\n",
       "  </thead>\n",
       "  <tbody>\n",
       "    <tr>\n",
       "      <th>GR01000001</th>\n",
       "      <td>Govt Industrial Training Institute Srinagar</td>\n",
       "      <td>GR01000001_A</td>\n",
       "      <td>7006947733</td>\n",
       "      <td>9419071348</td>\n",
       "      <td>7006947733</td>\n",
       "    </tr>\n",
       "    <tr>\n",
       "      <th>GR01000002</th>\n",
       "      <td>Govt Industrial Training Institute Jammu</td>\n",
       "      <td>GR01000002_A</td>\n",
       "      <td>9103155946</td>\n",
       "      <td>None</td>\n",
       "      <td>9103155946</td>\n",
       "    </tr>\n",
       "    <tr>\n",
       "      <th>GR01000003</th>\n",
       "      <td>Govt Industrial Training Institute Anantnag</td>\n",
       "      <td>GR01000003_C</td>\n",
       "      <td>7006371081</td>\n",
       "      <td>7006371081</td>\n",
       "      <td>9858764444</td>\n",
       "    </tr>\n",
       "    <tr>\n",
       "      <th>GR01000004</th>\n",
       "      <td>Govt Industrial Training Institute Baramulla</td>\n",
       "      <td>GR01000004_A</td>\n",
       "      <td>9419418055</td>\n",
       "      <td>7006936528</td>\n",
       "      <td>9419418055</td>\n",
       "    </tr>\n",
       "    <tr>\n",
       "      <th>GR01000005</th>\n",
       "      <td>Govt Industrial Training Institute Rajouri</td>\n",
       "      <td>GR01000005_A</td>\n",
       "      <td>9906049713</td>\n",
       "      <td>7006189668</td>\n",
       "      <td>9906049713</td>\n",
       "    </tr>\n",
       "    <tr>\n",
       "      <th>...</th>\n",
       "      <td>...</td>\n",
       "      <td>...</td>\n",
       "      <td>...</td>\n",
       "      <td>...</td>\n",
       "      <td>...</td>\n",
       "    </tr>\n",
       "    <tr>\n",
       "      <th>nan</th>\n",
       "      <td>Nan</td>\n",
       "      <td>nan</td>\n",
       "      <td>nan</td>\n",
       "      <td>None</td>\n",
       "      <td>None</td>\n",
       "    </tr>\n",
       "    <tr>\n",
       "      <th>pr09901235</th>\n",
       "      <td>L P Private ITI</td>\n",
       "      <td>PR09901235_A</td>\n",
       "      <td>7394926124</td>\n",
       "      <td>None</td>\n",
       "      <td>7394926124</td>\n",
       "    </tr>\n",
       "    <tr>\n",
       "      <th>pu06000099</th>\n",
       "      <td>Defence Pvt. Industrial Training Institute, Bh...</td>\n",
       "      <td>PU06000099_A</td>\n",
       "      <td>9996405307</td>\n",
       "      <td>None</td>\n",
       "      <td>9996405307</td>\n",
       "    </tr>\n",
       "    <tr>\n",
       "      <th>pu08001648</th>\n",
       "      <td>Marudhar Private ITI Suratgarh</td>\n",
       "      <td>PU08001648_A</td>\n",
       "      <td>7976159453</td>\n",
       "      <td>None</td>\n",
       "      <td>7976159453</td>\n",
       "    </tr>\n",
       "    <tr>\n",
       "      <th>pu29000869</th>\n",
       "      <td>Dr. Pandit Puttaraj Gawai  ITI Gadag</td>\n",
       "      <td>PU29000869_A</td>\n",
       "      <td>9916062131</td>\n",
       "      <td>None</td>\n",
       "      <td>9916062131</td>\n",
       "    </tr>\n",
       "  </tbody>\n",
       "</table>\n",
       "<p>15402 rows × 5 columns</p>\n",
       "</div>"
      ],
      "text/plain": [
       "                                                      ITIName       LoginID  \\\n",
       "ITICode                                                                       \n",
       "GR01000001        Govt Industrial Training Institute Srinagar  GR01000001_A   \n",
       "GR01000002           Govt Industrial Training Institute Jammu  GR01000002_A   \n",
       "GR01000003        Govt Industrial Training Institute Anantnag  GR01000003_C   \n",
       "GR01000004       Govt Industrial Training Institute Baramulla  GR01000004_A   \n",
       "GR01000005         Govt Industrial Training Institute Rajouri  GR01000005_A   \n",
       "...                                                       ...           ...   \n",
       "nan                                                       Nan           nan   \n",
       "pr09901235                                    L P Private ITI  PR09901235_A   \n",
       "pu06000099  Defence Pvt. Industrial Training Institute, Bh...  PU06000099_A   \n",
       "pu08001648                     Marudhar Private ITI Suratgarh  PU08001648_A   \n",
       "pu29000869               Dr. Pandit Puttaraj Gawai  ITI Gadag  PU29000869_A   \n",
       "\n",
       "              MobileNo Creater_Mobile_Number Approver_Mobile_Number  \n",
       "ITICode                                                              \n",
       "GR01000001  7006947733            9419071348             7006947733  \n",
       "GR01000002  9103155946                  None             9103155946  \n",
       "GR01000003  7006371081            7006371081             9858764444  \n",
       "GR01000004  9419418055            7006936528             9419418055  \n",
       "GR01000005  9906049713            7006189668             9906049713  \n",
       "...                ...                   ...                    ...  \n",
       "nan                nan                  None                   None  \n",
       "pr09901235  7394926124                  None             7394926124  \n",
       "pu06000099  9996405307                  None             9996405307  \n",
       "pu08001648  7976159453                  None             7976159453  \n",
       "pu29000869  9916062131                  None             9916062131  \n",
       "\n",
       "[15402 rows x 5 columns]"
      ]
     },
     "execution_count": 32,
     "metadata": {},
     "output_type": "execute_result"
    }
   ],
   "source": [
    "grouped_df.first()"
   ]
  },
  {
   "cell_type": "code",
   "execution_count": 33,
   "metadata": {},
   "outputs": [
    {
     "data": {
      "text/html": [
       "<div>\n",
       "<style scoped>\n",
       "    .dataframe tbody tr th:only-of-type {\n",
       "        vertical-align: middle;\n",
       "    }\n",
       "\n",
       "    .dataframe tbody tr th {\n",
       "        vertical-align: top;\n",
       "    }\n",
       "\n",
       "    .dataframe thead th {\n",
       "        text-align: right;\n",
       "    }\n",
       "</style>\n",
       "<table border=\"1\" class=\"dataframe\">\n",
       "  <thead>\n",
       "    <tr style=\"text-align: right;\">\n",
       "      <th></th>\n",
       "      <th>ITIName</th>\n",
       "      <th>LoginID</th>\n",
       "      <th>MobileNo</th>\n",
       "      <th>Creater_Mobile_Number</th>\n",
       "      <th>Approver_Mobile_Number</th>\n",
       "    </tr>\n",
       "    <tr>\n",
       "      <th>ITICode</th>\n",
       "      <th></th>\n",
       "      <th></th>\n",
       "      <th></th>\n",
       "      <th></th>\n",
       "      <th></th>\n",
       "    </tr>\n",
       "  </thead>\n",
       "  <tbody>\n",
       "    <tr>\n",
       "      <th>GR01000001</th>\n",
       "      <td>Govt Industrial Training Institute Srinagar</td>\n",
       "      <td>GR01000001_C</td>\n",
       "      <td>9419071348</td>\n",
       "      <td>9419071348</td>\n",
       "      <td>7006947733</td>\n",
       "    </tr>\n",
       "    <tr>\n",
       "      <th>GR01000002</th>\n",
       "      <td>Govt Industrial Training Institute Jammu</td>\n",
       "      <td>GR01000002_A</td>\n",
       "      <td>9103155946</td>\n",
       "      <td>None</td>\n",
       "      <td>9103155946</td>\n",
       "    </tr>\n",
       "    <tr>\n",
       "      <th>GR01000003</th>\n",
       "      <td>Govt Industrial Training Institute Anantnag</td>\n",
       "      <td>GR01000003_A</td>\n",
       "      <td>9858764444</td>\n",
       "      <td>7006371081</td>\n",
       "      <td>9858764444</td>\n",
       "    </tr>\n",
       "    <tr>\n",
       "      <th>GR01000004</th>\n",
       "      <td>Govt Industrial Training Institute Baramulla</td>\n",
       "      <td>GR01000004_C</td>\n",
       "      <td>7006936528</td>\n",
       "      <td>7006936528</td>\n",
       "      <td>9419418055</td>\n",
       "    </tr>\n",
       "    <tr>\n",
       "      <th>GR01000005</th>\n",
       "      <td>Govt Industrial Training Institute Rajouri</td>\n",
       "      <td>GR01000005_C</td>\n",
       "      <td>7006189668</td>\n",
       "      <td>7006189668</td>\n",
       "      <td>9906049713</td>\n",
       "    </tr>\n",
       "    <tr>\n",
       "      <th>...</th>\n",
       "      <td>...</td>\n",
       "      <td>...</td>\n",
       "      <td>...</td>\n",
       "      <td>...</td>\n",
       "      <td>...</td>\n",
       "    </tr>\n",
       "    <tr>\n",
       "      <th>nan</th>\n",
       "      <td>Nan</td>\n",
       "      <td>nan</td>\n",
       "      <td>nan</td>\n",
       "      <td>None</td>\n",
       "      <td>None</td>\n",
       "    </tr>\n",
       "    <tr>\n",
       "      <th>pr09901235</th>\n",
       "      <td>L P Private ITI</td>\n",
       "      <td>PR09901235_A</td>\n",
       "      <td>7394926124</td>\n",
       "      <td>None</td>\n",
       "      <td>7394926124</td>\n",
       "    </tr>\n",
       "    <tr>\n",
       "      <th>pu06000099</th>\n",
       "      <td>Defence Pvt. Industrial Training Institute, Bh...</td>\n",
       "      <td>PU06000099_A</td>\n",
       "      <td>9996405307</td>\n",
       "      <td>None</td>\n",
       "      <td>9996405307</td>\n",
       "    </tr>\n",
       "    <tr>\n",
       "      <th>pu08001648</th>\n",
       "      <td>Marudhar Private ITI Suratgarh</td>\n",
       "      <td>PU08001648_A</td>\n",
       "      <td>7976159453</td>\n",
       "      <td>None</td>\n",
       "      <td>7976159453</td>\n",
       "    </tr>\n",
       "    <tr>\n",
       "      <th>pu29000869</th>\n",
       "      <td>Dr. Pandit Puttaraj Gawai  ITI Gadag</td>\n",
       "      <td>PU29000869_A</td>\n",
       "      <td>9916062131</td>\n",
       "      <td>None</td>\n",
       "      <td>9916062131</td>\n",
       "    </tr>\n",
       "  </tbody>\n",
       "</table>\n",
       "<p>15402 rows × 5 columns</p>\n",
       "</div>"
      ],
      "text/plain": [
       "                                                      ITIName       LoginID  \\\n",
       "ITICode                                                                       \n",
       "GR01000001        Govt Industrial Training Institute Srinagar  GR01000001_C   \n",
       "GR01000002           Govt Industrial Training Institute Jammu  GR01000002_A   \n",
       "GR01000003        Govt Industrial Training Institute Anantnag  GR01000003_A   \n",
       "GR01000004       Govt Industrial Training Institute Baramulla  GR01000004_C   \n",
       "GR01000005         Govt Industrial Training Institute Rajouri  GR01000005_C   \n",
       "...                                                       ...           ...   \n",
       "nan                                                       Nan           nan   \n",
       "pr09901235                                    L P Private ITI  PR09901235_A   \n",
       "pu06000099  Defence Pvt. Industrial Training Institute, Bh...  PU06000099_A   \n",
       "pu08001648                     Marudhar Private ITI Suratgarh  PU08001648_A   \n",
       "pu29000869               Dr. Pandit Puttaraj Gawai  ITI Gadag  PU29000869_A   \n",
       "\n",
       "              MobileNo Creater_Mobile_Number Approver_Mobile_Number  \n",
       "ITICode                                                              \n",
       "GR01000001  9419071348            9419071348             7006947733  \n",
       "GR01000002  9103155946                  None             9103155946  \n",
       "GR01000003  9858764444            7006371081             9858764444  \n",
       "GR01000004  7006936528            7006936528             9419418055  \n",
       "GR01000005  7006189668            7006189668             9906049713  \n",
       "...                ...                   ...                    ...  \n",
       "nan                nan                  None                   None  \n",
       "pr09901235  7394926124                  None             7394926124  \n",
       "pu06000099  9996405307                  None             9996405307  \n",
       "pu08001648  7976159453                  None             7976159453  \n",
       "pu29000869  9916062131                  None             9916062131  \n",
       "\n",
       "[15402 rows x 5 columns]"
      ]
     },
     "execution_count": 33,
     "metadata": {},
     "output_type": "execute_result"
    }
   ],
   "source": [
    "grouped_df.last()"
   ]
  },
  {
   "cell_type": "code",
   "execution_count": 45,
   "metadata": {},
   "outputs": [],
   "source": [
    "test1 = df.groupby([\"ITICode\", \"ITIName\", \"Creater_Mobile_Number\", \"Approver_Mobile_Number\"])[\"LoginID\"].nunique().values"
   ]
  },
  {
   "cell_type": "code",
   "execution_count": 50,
   "metadata": {},
   "outputs": [
    {
     "data": {
      "text/html": [
       "<div>\n",
       "<style scoped>\n",
       "    .dataframe tbody tr th:only-of-type {\n",
       "        vertical-align: middle;\n",
       "    }\n",
       "\n",
       "    .dataframe tbody tr th {\n",
       "        vertical-align: top;\n",
       "    }\n",
       "\n",
       "    .dataframe thead th {\n",
       "        text-align: right;\n",
       "    }\n",
       "</style>\n",
       "<table border=\"1\" class=\"dataframe\">\n",
       "  <thead>\n",
       "    <tr style=\"text-align: right;\">\n",
       "      <th></th>\n",
       "      <th>ITICode</th>\n",
       "      <th>ITIName</th>\n",
       "      <th>LoginID</th>\n",
       "      <th>MobileNo</th>\n",
       "      <th>Creater_Mobile_Number</th>\n",
       "      <th>Approver_Mobile_Number</th>\n",
       "    </tr>\n",
       "  </thead>\n",
       "  <tbody>\n",
       "    <tr>\n",
       "      <th>0</th>\n",
       "      <td>GR35000001</td>\n",
       "      <td>Government Industrial Training Institute</td>\n",
       "      <td>GR35000001_C</td>\n",
       "      <td>9434266116</td>\n",
       "      <td>9434266116</td>\n",
       "      <td>NaN</td>\n",
       "    </tr>\n",
       "    <tr>\n",
       "      <th>1</th>\n",
       "      <td>GR35000001</td>\n",
       "      <td>Government Industrial Training Institute</td>\n",
       "      <td>GR35000001_A</td>\n",
       "      <td>8448512180</td>\n",
       "      <td>NaN</td>\n",
       "      <td>8448512180</td>\n",
       "    </tr>\n",
       "    <tr>\n",
       "      <th>2</th>\n",
       "      <td>GR35000002</td>\n",
       "      <td>Government Vocational Training Institute</td>\n",
       "      <td>GR35000002_C</td>\n",
       "      <td>9679577293</td>\n",
       "      <td>9679577293</td>\n",
       "      <td>NaN</td>\n",
       "    </tr>\n",
       "    <tr>\n",
       "      <th>3</th>\n",
       "      <td>GR35000002</td>\n",
       "      <td>Government Vocational Training Institute</td>\n",
       "      <td>GR35000002_A</td>\n",
       "      <td>9933246775</td>\n",
       "      <td>NaN</td>\n",
       "      <td>9933246775</td>\n",
       "    </tr>\n",
       "    <tr>\n",
       "      <th>4</th>\n",
       "      <td>GR35000004</td>\n",
       "      <td>Govt ITI, Arong, Car Nicobar</td>\n",
       "      <td>GR35000004_A</td>\n",
       "      <td>9933246775</td>\n",
       "      <td>NaN</td>\n",
       "      <td>9933246775</td>\n",
       "    </tr>\n",
       "  </tbody>\n",
       "</table>\n",
       "</div>"
      ],
      "text/plain": [
       "      ITICode                                   ITIName       LoginID  \\\n",
       "0  GR35000001  Government Industrial Training Institute  GR35000001_C   \n",
       "1  GR35000001  Government Industrial Training Institute  GR35000001_A   \n",
       "2  GR35000002  Government Vocational Training Institute  GR35000002_C   \n",
       "3  GR35000002  Government Vocational Training Institute  GR35000002_A   \n",
       "4  GR35000004              Govt ITI, Arong, Car Nicobar  GR35000004_A   \n",
       "\n",
       "     MobileNo Creater_Mobile_Number Approver_Mobile_Number  \n",
       "0  9434266116            9434266116                    NaN  \n",
       "1  8448512180                   NaN             8448512180  \n",
       "2  9679577293            9679577293                    NaN  \n",
       "3  9933246775                   NaN             9933246775  \n",
       "4  9933246775                   NaN             9933246775  "
      ]
     },
     "execution_count": 50,
     "metadata": {},
     "output_type": "execute_result"
    }
   ],
   "source": [
    "df.head()"
   ]
  },
  {
   "cell_type": "code",
   "execution_count": null,
   "metadata": {},
   "outputs": [],
   "source": [
    "# Function to extract mobile number suffix based on LoginID suffix\n",
    "def get_mobile_suffix(login_id):\n",
    "    return '_C' if login_id.endswith('_C') else '_A'\n",
    "\n",
    "# Function to count login users and get mobile number\n",
    "def process_group(group):\n",
    "    code = group['ITICode'].iloc[0]\n",
    "    name = group['ITIName'].iloc[0]\n",
    "    count_C = group[group['LoginID'].str.endswith('_C')]['LoginID'].count()\n",
    "    count_A = group[group['LoginID'].str.endswith('_A')]['LoginID'].count()\n",
    "    C_mobile_no = group[group['LoginID'].str.endswith('_C')]['MobileNo'].iloc[0]\n",
    "    A_mobile_no = group[group['LoginID'].str.endswith('_A')]['MobileNo'].iloc[0]\n",
    "    return pd.Series({'Code': code, 'Name': name, 'Number of Login Users': count_C + count_A, \n",
    "                      'C_Mobile_Number': C_mobile_no, 'A_Mobile_Number': A_mobile_no})\n",
    "\n",
    "# Group by Code and apply the custom processing function\n",
    "result = df.groupby('ITICode').apply(process_group).reset_index(drop=True)\n",
    "\n",
    "print(result)"
   ]
  },
  {
   "cell_type": "code",
   "execution_count": 39,
   "metadata": {},
   "outputs": [],
   "source": [
    "number_of_login_ids = grouped_df[\"LoginID\"].nunique().values"
   ]
  },
  {
   "cell_type": "code",
   "execution_count": 53,
   "metadata": {},
   "outputs": [],
   "source": [
    "def process_group(group):\n",
    "    code = group['ITICode'].iloc[0]\n",
    "    name = group['ITIName'].iloc[0]\n",
    "    count_C = group[group['LoginID'].str.endswith('_C')]['LoginID'].count()\n",
    "    count_A = group[group['LoginID'].str.endswith('_A')]['LoginID'].count()\n",
    "    C_mobile_no = group[group['LoginID'].str.endswith('_C')]['MobileNo'].iloc[0] if count_C > 0 else None\n",
    "    A_mobile_no = group[group['LoginID'].str.endswith('_A')]['MobileNo'].iloc[0] if count_A > 0 else None\n",
    "    return pd.Series({'ITICode': code, 'ITIName': name, 'Number of Login Users': count_C + count_A, \n",
    "                      'C_Mobile_Number': C_mobile_no, 'A_Mobile_Number': A_mobile_no})\n"
   ]
  },
  {
   "cell_type": "code",
   "execution_count": null,
   "metadata": {},
   "outputs": [],
   "source": []
  },
  {
   "cell_type": "code",
   "execution_count": 54,
   "metadata": {},
   "outputs": [
    {
     "name": "stdout",
     "output_type": "stream",
     "text": [
      "          ITICode                                            ITIName  \\\n",
      "0      GR01000001        Govt Industrial Training Institute Srinagar   \n",
      "1      GR01000002           Govt Industrial Training Institute Jammu   \n",
      "2      GR01000003        Govt Industrial Training Institute Anantnag   \n",
      "3      GR01000004       Govt Industrial Training Institute Baramulla   \n",
      "4      GR01000005         Govt Industrial Training Institute Rajouri   \n",
      "...           ...                                                ...   \n",
      "15397         nan                                                Nan   \n",
      "15398  pr09901235                                    L P Private ITI   \n",
      "15399  pu06000099  Defence Pvt. Industrial Training Institute, Bh...   \n",
      "15400  pu08001648                     Marudhar Private ITI Suratgarh   \n",
      "15401  pu29000869               Dr. Pandit Puttaraj Gawai  ITI Gadag   \n",
      "\n",
      "       Number of Login Users C_Mobile_Number A_Mobile_Number  \n",
      "0                          2      9419071348      7006947733  \n",
      "1                          1            None      9103155946  \n",
      "2                          2      7006371081      9858764444  \n",
      "3                          2      7006936528      9419418055  \n",
      "4                          2      7006189668      9906049713  \n",
      "...                      ...             ...             ...  \n",
      "15397                      0            None            None  \n",
      "15398                      1            None      7394926124  \n",
      "15399                      1            None      9996405307  \n",
      "15400                      1            None      7976159453  \n",
      "15401                      1            None      9916062131  \n",
      "\n",
      "[15402 rows x 5 columns]\n"
     ]
    }
   ],
   "source": [
    "# Group by Code and apply the custom processing function\n",
    "result = df.groupby('ITICode').apply(process_group).reset_index(drop=True)\n",
    "\n",
    "print(result)"
   ]
  },
  {
   "cell_type": "code",
   "execution_count": null,
   "metadata": {},
   "outputs": [],
   "source": []
  },
  {
   "cell_type": "code",
   "execution_count": 1,
   "metadata": {},
   "outputs": [],
   "source": [
    "import pandas as pd\n",
    "df = pd.read_excel(\"comparison_for_sid.xlsx\", sheet_name=\"ITIs available in SIDH\")\n",
    "df.drop_duplicates(inplace = True)\n",
    "df = df[[\"ITICode\", \"ITIName\", \"LoginID\", \"MobileNo\"]]\n",
    "df[\"ITIName\"] = df[\"ITIName\"].str.title()\n",
    "df[\"ITIName\"] = df[\"ITIName\"].str.replace(\"Iti\", \"ITI\")\n",
    "df[\"LoginID\"] = df[\"LoginID\"].str.replace(\"pr\", \"PR\")\n",
    "df[\"LoginID\"] = df[\"LoginID\"].str.replace(\"pu\", \"PU\")\n",
    "df[\"LoginID\"] = df[\"LoginID\"].str.replace(\"gr\", \"GR\")\n",
    "df[\"LoginID\"] = df[\"LoginID\"].str.replace(\"gu\", \"GU\")\n",
    "df[\"LoginID\"] = df[\"LoginID\"].str.replace(\"_a\", \"_A\")\n",
    "df[\"LoginID\"] = df[\"LoginID\"].str.replace(\"_c\", \"_C\")\n",
    "# df[\"MobileNo\"] = df[\"MobileNo\"].astypestr.replace(\".0\", \"\")\n",
    "# Create new columns for mobile numbers for _C and _A\n",
    "# df['Creater_Mobile_Number'] = df[df['LoginID'].str.contains('_C', na=True)]['MobileNo']\n",
    "# df['Approver_Mobile_Number'] = df[df['LoginID'].str.contains('_A', na=True)]['MobileNo']"
   ]
  },
  {
   "cell_type": "code",
   "execution_count": 1,
   "metadata": {},
   "outputs": [],
   "source": [
    "def process_group(group):\n",
    "    code = group['ITI Code'].iloc[0]\n",
    "    name = group['ITI Name'].iloc[0]\n",
    "    count_C = group[group['LoginID'].str.endswith('_C')]['LoginID'].count()\n",
    "    count_A = group[group['LoginID'].str.endswith('_A')]['LoginID'].count()\n",
    "    C_mobile_no = group[group['LoginID'].str.endswith('_C')]['MobileNo'].iloc[0] if count_C > 0 else None\n",
    "    A_mobile_no = group[group['LoginID'].str.endswith('_A')]['MobileNo'].iloc[0] if count_A > 0 else None\n",
    "    return pd.Series({'ITI Code': code, 'ITI Name': name, 'Number of Login Users': count_C + count_A, \n",
    "                      'C_Mobile_Number': C_mobile_no, 'A_Mobile_Number': A_mobile_no})\n"
   ]
  },
  {
   "cell_type": "code",
   "execution_count": 2,
   "metadata": {},
   "outputs": [],
   "source": [
    "# # Group by Code and apply the custom processing function\n",
    "# result = df.groupby('ITICode').apply(process_group).reset_index(drop=True)\n",
    "\n",
    "# print(result)"
   ]
  },
  {
   "cell_type": "code",
   "execution_count": 4,
   "metadata": {},
   "outputs": [],
   "source": [
    "import pandas as pd\n",
    "df1 = pd.read_excel(\"ITI Creator Approver_20_05_2024.xlsx\", sheet_name=\"Sheet2\")\n",
    "df1.drop_duplicates(inplace = True)\n",
    "# df1 = df1[[\"ITI Code\", \"ITI Name\", \"LoginID\", \"MobileNo\"]]\n",
    "# df1[\"ITI Name\"] = df1[\"ITI Name\"].str.title()\n",
    "# df1[\"ITI Name\"] = df1[\"ITI Name\"].str.replace(\"Iti\", \"ITI\")\n",
    "# df1[\"LoginID\"] = df1[\"LoginID\"].str.replace(\"pr\", \"PR\")\n",
    "# df1[\"LoginID\"] = df1[\"LoginID\"].str.replace(\"pu\", \"PU\")\n",
    "# df1[\"LoginID\"] = df1[\"LoginID\"].str.replace(\"gr\", \"GR\")\n",
    "# df1[\"LoginID\"] = df1[\"LoginID\"].str.replace(\"gu\", \"GU\")\n",
    "# df1[\"LoginID\"] = df1[\"LoginID\"].str.replace(\"_a\", \"_A\")\n",
    "# df1[\"LoginID\"] = df1[\"LoginID\"].str.replace(\"_c\", \"_C\")\n",
    "# df1[\"MobileNo\"] = df1[\"MobileNo\"].str.replace(\".0\", \"\")\n",
    "# # Create new columns for mobile numbers for _C and _A\n",
    "# df1['Creater_Mobile_Number'] = df1[df1['LoginID'].str.contains('_C', na=True)]['MobileNo']\n",
    "# df1['Approver_Mobile_Number'] = df1[df1['LoginID'].str.contains('_A', na=True)]['MobileNo']"
   ]
  },
  {
   "cell_type": "code",
   "execution_count": 5,
   "metadata": {},
   "outputs": [
    {
     "name": "stdout",
     "output_type": "stream",
     "text": [
      "         ITI Code                                           ITI Name  \\\n",
      "0      CFI0200001      NATIONAL SKILL TRAINING INSTITUTE (W), Shimla   \n",
      "1      CFI0300001   National Skill Training Institute(Women), Mohali   \n",
      "2      CFI0600001        National Training Institute(Women), Panipat   \n",
      "3      CFI0800001   National Skill Training Institute(Women), Jaipur   \n",
      "4      CFI0900001     National Skill Training Insitute(Women), Noida   \n",
      "...           ...                                                ...   \n",
      "14972  PU36000520                                      SRINIVASA ITI   \n",
      "14973  PU36000521      TSRTC Industrial Training Institute Hakimapet   \n",
      "14974  SU21000619             Centurion University,Paikasta,Gopalpur   \n",
      "14975  SU21000620        Centurian University, Ramachndrapur,, Jtani   \n",
      "14976  SU21000621  Centurion University, Alluri Nagar, R. Sitapur...   \n",
      "\n",
      "       Number of Login Users  C_Mobile_Number A_Mobile_Number  \n",
      "0                          3     8.988407e+09      8988244908  \n",
      "1                          2     9.996482e+09      9417710001  \n",
      "2                          2     8.607000e+09      9811942877  \n",
      "3                          2     8.005637e+09      9610285791  \n",
      "4                          2     9.013475e+09      9971738488  \n",
      "...                      ...              ...             ...  \n",
      "14972                      2     9.441050e+09      8639796899  \n",
      "14973                      2     8.978598e+09      9100664452  \n",
      "14974                      2     9.668584e+09      7750988993  \n",
      "14975                      2     9.938381e+09      8328997354  \n",
      "14976                      2     9.437620e+09      9437985474  \n",
      "\n",
      "[14977 rows x 5 columns]\n"
     ]
    }
   ],
   "source": [
    "# Group by Code and apply the custom processing function\n",
    "result1 = df1.groupby('ITI Code').apply(process_group).reset_index(drop=True)\n",
    "\n",
    "print(result1)"
   ]
  },
  {
   "cell_type": "code",
   "execution_count": 6,
   "metadata": {},
   "outputs": [
    {
     "data": {
      "text/plain": [
       "25"
      ]
     },
     "execution_count": 6,
     "metadata": {},
     "output_type": "execute_result"
    }
   ],
   "source": [
    "result1[\"C_Mobile_Number\"].isnull().sum()"
   ]
  },
  {
   "cell_type": "code",
   "execution_count": 7,
   "metadata": {},
   "outputs": [
    {
     "data": {
      "text/plain": [
       "110"
      ]
     },
     "execution_count": 7,
     "metadata": {},
     "output_type": "execute_result"
    }
   ],
   "source": [
    "result1[\"A_Mobile_Number\"].isnull().sum()"
   ]
  },
  {
   "cell_type": "code",
   "execution_count": 8,
   "metadata": {},
   "outputs": [],
   "source": [
    "result1.to_excel(\"compiled_data.xlsx\", index=False)"
   ]
  },
  {
   "cell_type": "code",
   "execution_count": 7,
   "metadata": {},
   "outputs": [
    {
     "name": "stderr",
     "output_type": "stream",
     "text": [
      "Exception ignored in: <function ZipFile.__del__ at 0x000001E42AE2DE50>\n",
      "Traceback (most recent call last):\n",
      "  File \"c:\\Users\\goeld\\anaconda3\\envs\\nlp\\lib\\zipfile.py\", line 1833, in __del__\n",
      "    self.close()\n",
      "  File \"c:\\Users\\goeld\\anaconda3\\envs\\nlp\\lib\\zipfile.py\", line 1850, in close\n",
      "    self.fp.seek(self.start_dir)\n",
      "ValueError: seek of closed file\n"
     ]
    }
   ],
   "source": [
    "import pandas as pd\n",
    "from openpyxl import load_workbook\n",
    "from openpyxl.styles import Border, Side\n",
    "\n",
    "# Specify the output Excel file path\n",
    "# output_excel_file = r\"./final_output_data.xlsx\"\n",
    "\n",
    "# Create a Pandas Excel writer object\n",
    "with pd.ExcelWriter(\"compiled_data.xlsx\") as writer:\n",
    "    # Iterate over the dictionary of dataframes\n",
    "        # Write each dataframe to a separate sheet in the Excel file\n",
    "    result1.to_excel(writer, sheet_name= \"Sheet1\", index=False)\n",
    "    # result1.to_excel(writer, sheet_name=\"ITIs NOT available in SIDH\", index=False)\n",
    "\n",
    "    # Access the workbook and the corresponding worksheet\n",
    "    # workbook = writer.book\n"
   ]
  },
  {
   "cell_type": "code",
   "execution_count": 12,
   "metadata": {},
   "outputs": [
    {
     "name": "stdout",
     "output_type": "stream",
     "text": [
      "Requirement already satisfied: pandas in c:\\users\\goeld\\anaconda3\\envs\\nlp\\lib\\site-packages (2.0.3)\n",
      "Requirement already satisfied: openpyxl in c:\\users\\goeld\\anaconda3\\envs\\nlp\\lib\\site-packages (3.1.2)\n",
      "Requirement already satisfied: python-dateutil>=2.8.2 in c:\\users\\goeld\\anaconda3\\envs\\nlp\\lib\\site-packages (from pandas) (2.8.2)\n",
      "Requirement already satisfied: pytz>=2020.1 in c:\\users\\goeld\\anaconda3\\envs\\nlp\\lib\\site-packages (from pandas) (2024.1)\n",
      "Requirement already satisfied: tzdata>=2022.1 in c:\\users\\goeld\\anaconda3\\envs\\nlp\\lib\\site-packages (from pandas) (2023.3)\n",
      "Requirement already satisfied: numpy>=1.20.3 in c:\\users\\goeld\\anaconda3\\envs\\nlp\\lib\\site-packages (from pandas) (1.24.3)\n",
      "Requirement already satisfied: et-xmlfile in c:\\users\\goeld\\anaconda3\\envs\\nlp\\lib\\site-packages (from openpyxl) (1.1.0)\n",
      "Requirement already satisfied: six>=1.5 in c:\\users\\goeld\\anaconda3\\envs\\nlp\\lib\\site-packages (from python-dateutil>=2.8.2->pandas) (1.16.0)\n",
      "Note: you may need to restart the kernel to use updated packages.\n"
     ]
    }
   ],
   "source": [
    "pip install --upgrade pandas openpyxl\n"
   ]
  },
  {
   "cell_type": "code",
   "execution_count": null,
   "metadata": {},
   "outputs": [],
   "source": []
  },
  {
   "cell_type": "code",
   "execution_count": null,
   "metadata": {},
   "outputs": [],
   "source": []
  },
  {
   "cell_type": "code",
   "execution_count": null,
   "metadata": {},
   "outputs": [],
   "source": []
  },
  {
   "cell_type": "code",
   "execution_count": null,
   "metadata": {},
   "outputs": [],
   "source": []
  },
  {
   "cell_type": "code",
   "execution_count": null,
   "metadata": {},
   "outputs": [],
   "source": []
  },
  {
   "cell_type": "code",
   "execution_count": null,
   "metadata": {},
   "outputs": [],
   "source": []
  },
  {
   "cell_type": "code",
   "execution_count": null,
   "metadata": {},
   "outputs": [],
   "source": []
  },
  {
   "cell_type": "code",
   "execution_count": null,
   "metadata": {},
   "outputs": [],
   "source": []
  },
  {
   "cell_type": "code",
   "execution_count": null,
   "metadata": {},
   "outputs": [],
   "source": []
  },
  {
   "cell_type": "code",
   "execution_count": null,
   "metadata": {},
   "outputs": [],
   "source": []
  }
 ],
 "metadata": {
  "kernelspec": {
   "display_name": "nlp",
   "language": "python",
   "name": "python3"
  },
  "language_info": {
   "codemirror_mode": {
    "name": "ipython",
    "version": 3
   },
   "file_extension": ".py",
   "mimetype": "text/x-python",
   "name": "python",
   "nbconvert_exporter": "python",
   "pygments_lexer": "ipython3",
   "version": "3.8.19"
  }
 },
 "nbformat": 4,
 "nbformat_minor": 2
}
